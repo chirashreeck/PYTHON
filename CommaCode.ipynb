{
 "cells": [
  {
   "cell_type": "code",
   "execution_count": 1,
   "id": "27f69243-f12f-4ea9-a962-000141721963",
   "metadata": {},
   "outputs": [
    {
     "name": "stdout",
     "output_type": "stream",
     "text": [
      "Name: CHIRASHREE CK\n",
      "USN: IAY24AI027\n",
      "Section M\n",
      "apples, bananas, tofu and cats\n"
     ]
    }
   ],
   "source": [
    "print(\"Name: CHIRASHREE CK\\nUSN: IAY24AI027\\nSection M\")\n",
    "def commaCode(items):\n",
    "    if len(items) == 0:\n",
    "        return ''\n",
    "    elif len(items) == 1:\n",
    "        return items[0]\n",
    "    return ', '.join(items[:-1]) + ' and ' + items[-1]\n",
    "\n",
    "print(commaCode(['apples','bananas','tofu','cats']))"
   ]
  },
  {
   "cell_type": "code",
   "execution_count": null,
   "id": "7a5a4f7c-5f07-440f-95af-5866da77dad9",
   "metadata": {},
   "outputs": [],
   "source": []
  }
 ],
 "metadata": {
  "kernelspec": {
   "display_name": "Python 3 (ipykernel)",
   "language": "python",
   "name": "python3"
  },
  "language_info": {
   "codemirror_mode": {
    "name": "ipython",
    "version": 3
   },
   "file_extension": ".py",
   "mimetype": "text/x-python",
   "name": "python",
   "nbconvert_exporter": "python",
   "pygments_lexer": "ipython3",
   "version": "3.12.10"
  }
 },
 "nbformat": 4,
 "nbformat_minor": 5
}
