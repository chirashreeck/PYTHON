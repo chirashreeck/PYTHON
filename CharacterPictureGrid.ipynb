{
 "cells": [
  {
   "cell_type": "code",
   "execution_count": 1,
   "id": "18bd849a-374b-406b-8740-6a11ca4c47b5",
   "metadata": {},
   "outputs": [
    {
     "name": "stdout",
     "output_type": "stream",
     "text": [
      "Name: CHIRASHREE CK\n",
      "USN: IAY24AI027\n",
      "Section M\n",
      "..OO.OO..\n",
      ".OOOOOOO.\n",
      ".OOOOOOO.\n",
      "..OOOOO..\n",
      "...OOO...\n",
      "....O....\n"
     ]
    }
   ],
   "source": [
    "print(\"Name: CHIRASHREE CK\\nUSN: IAY24AI027\\nSection M\")\n",
    "grid = [\n",
    "    ['.', '.', '.', '.', '.', '.'],\n",
    "    ['.', 'O', 'O', '.', '.', '.'],\n",
    "    ['O', 'O', 'O', 'O', '.', '.'],\n",
    "    ['O', 'O', 'O', 'O', 'O', '.'],\n",
    "    ['.', 'O', 'O', 'O', 'O', 'O'],\n",
    "    ['O', 'O', 'O', 'O', 'O', '.'],\n",
    "    ['O', 'O', 'O', 'O', '.', '.'],\n",
    "    ['.', 'O', 'O', '.', '.', '.'],\n",
    "    ['.', '.', '.', '.', '.', '.']\n",
    "]\n",
    "\n",
    "for x in range(len(grid[0])):\n",
    "    for y in range(len(grid)):\n",
    "        print(grid[y][x], end='')\n",
    "    print()"
   ]
  },
  {
   "cell_type": "code",
   "execution_count": null,
   "id": "d0ccc6c2-8e50-4e1b-b790-d32c36412fd9",
   "metadata": {},
   "outputs": [],
   "source": []
  }
 ],
 "metadata": {
  "kernelspec": {
   "display_name": "Python 3 (ipykernel)",
   "language": "python",
   "name": "python3"
  },
  "language_info": {
   "codemirror_mode": {
    "name": "ipython",
    "version": 3
   },
   "file_extension": ".py",
   "mimetype": "text/x-python",
   "name": "python",
   "nbconvert_exporter": "python",
   "pygments_lexer": "ipython3",
   "version": "3.12.10"
  }
 },
 "nbformat": 4,
 "nbformat_minor": 5
}
