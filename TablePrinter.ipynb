{
 "cells": [
  {
   "cell_type": "code",
   "execution_count": 1,
   "id": "eefa53df-89f9-499e-973d-275c1a3c0dde",
   "metadata": {},
   "outputs": [
    {
     "name": "stdout",
     "output_type": "stream",
     "text": [
      "Name: CHIRASHREE CK\n",
      "USN: IAY24AI027\n",
      "Section M\n",
      "+----------+-------+-------+\n",
      "|   apples | Alice |  dogs |\n",
      "+----------+-------+-------+\n",
      "|  oranges |   Bob |  cats |\n",
      "+----------+-------+-------+\n",
      "| cherries | Carol | moose |\n",
      "+----------+-------+-------+\n",
      "|   banana | David | goose |\n",
      "+----------+-------+-------+\n"
     ]
    }
   ],
   "source": [
    "print(\"Name: CHIRASHREE CK\\nUSN: IAY24AI027\\nSection M\")\n",
    "def print_table_with_lines(table):\n",
    "    col_widths = [max(len(str(item)) for item in col) for col in table]\n",
    "    num_rows = len(table[0])\n",
    "    num_cols = len(table)\n",
    "    def print_border():\n",
    "        border = '+'\n",
    "        for width in col_widths:\n",
    "            border += '-' * (width + 2) + '+'\n",
    "        print(border)\n",
    "    for row in range(num_rows):\n",
    "        print_border()\n",
    "        row_line = '|'\n",
    "        for col in range(num_cols):\n",
    "            item = table[col][row]\n",
    "            row_line += f' {item.rjust(col_widths[col])} |'\n",
    "        print(row_line)\n",
    "    print_border()\n",
    "table_data = [\n",
    "    ['apples', 'oranges', 'cherries', 'banana'],\n",
    "    ['Alice', 'Bob', 'Carol', 'David'],\n",
    "    ['dogs', 'cats', 'moose', 'goose']\n",
    "]\n",
    "print_table_with_lines(table_data)"
   ]
  },
  {
   "cell_type": "code",
   "execution_count": null,
   "id": "25948e35-fea2-43f1-bf26-25340bfa2066",
   "metadata": {},
   "outputs": [],
   "source": []
  }
 ],
 "metadata": {
  "kernelspec": {
   "display_name": "Python 3 (ipykernel)",
   "language": "python",
   "name": "python3"
  },
  "language_info": {
   "codemirror_mode": {
    "name": "ipython",
    "version": 3
   },
   "file_extension": ".py",
   "mimetype": "text/x-python",
   "name": "python",
   "nbconvert_exporter": "python",
   "pygments_lexer": "ipython3",
   "version": "3.12.10"
  }
 },
 "nbformat": 4,
 "nbformat_minor": 5
}
