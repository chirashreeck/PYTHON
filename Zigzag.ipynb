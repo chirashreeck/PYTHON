{
 "cells": [
  {
   "cell_type": "code",
   "execution_count": 1,
   "id": "4184311c-4a4c-43f2-851a-fd92f4979e0e",
   "metadata": {},
   "outputs": [
    {
     "name": "stdout",
     "output_type": "stream",
     "text": [
      "Name: CHIRASHREE CK\n",
      "USN: IAY24AI027\n",
      "Section M\n",
      "*   *   *   *   *   \n",
      "  *   *   *   *   * \n",
      "*   *   *   *   *   \n",
      "  *   *   *   *   * \n",
      "*   *   *   *   *   \n"
     ]
    }
   ],
   "source": [
    "print(\"Name: CHIRASHREE CK\\nUSN: IAY24AI027\\nSection M\")\n",
    "def print_zigzag(rows, cols):\n",
    "    \"\"\"Prints a zigzag pattern with the given number of rows and columns.\"\"\"\n",
    "    for i in range(rows):\n",
    "        for j in range(cols):\n",
    "            if (i + j) % 2 == 0:\n",
    "                print(\"*\", end=\" \")\n",
    "            else:\n",
    "                print(\" \", end=\" \")\n",
    "        print()\n",
    "\n",
    "print_zigzag(5,10)"
   ]
  },
  {
   "cell_type": "code",
   "execution_count": null,
   "id": "35b2b182-991d-4c00-9cc5-a375065bb41a",
   "metadata": {},
   "outputs": [],
   "source": []
  }
 ],
 "metadata": {
  "kernelspec": {
   "display_name": "Python 3 (ipykernel)",
   "language": "python",
   "name": "python3"
  },
  "language_info": {
   "codemirror_mode": {
    "name": "ipython",
    "version": 3
   },
   "file_extension": ".py",
   "mimetype": "text/x-python",
   "name": "python",
   "nbconvert_exporter": "python",
   "pygments_lexer": "ipython3",
   "version": "3.12.10"
  }
 },
 "nbformat": 4,
 "nbformat_minor": 5
}
