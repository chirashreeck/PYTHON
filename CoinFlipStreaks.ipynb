{
 "cells": [
  {
   "cell_type": "code",
   "execution_count": 1,
   "id": "039ffad7-1aa1-42b7-816f-e4ee1de3ccbe",
   "metadata": {},
   "outputs": [
    {
     "name": "stdout",
     "output_type": "stream",
     "text": [
      "Name: CHIRASHREE CK\n",
      "USN: IAY24AI027\n",
      "Section M\n",
      "Chance of a streak of 6 in 100 flips: 81.05%\n"
     ]
    }
   ],
   "source": [
    "print(\"Name: CHIRASHREE CK\\nUSN: IAY24AI027\\nSection M\")\n",
    "import random\n",
    "def coin_flip_streaks():\n",
    "    number_of_streaks = 0\n",
    "    total_simulations = 10000\n",
    "    for experiment in range(total_simulations):\n",
    "        flips = []\n",
    "        for i in range(100):\n",
    "            if random.randint(0, 1) == 0:\n",
    "                flips.append('H')\n",
    "            else:\n",
    "                flips.append('T')\n",
    "        streak_count = 1\n",
    "        for i in range(1, len(flips)):\n",
    "            if flips[i] == flips[i - 1]:\n",
    "                streak_count += 1\n",
    "                if streak_count == 6:\n",
    "                    number_of_streaks += 1\n",
    "                    break  \n",
    "            else:\n",
    "                streak_count = 1\n",
    "    print(f'Chance of a streak of 6 in 100 flips: {number_of_streaks / total_simulations * 100:.2f}%')\n",
    "coin_flip_streaks()"
   ]
  },
  {
   "cell_type": "code",
   "execution_count": null,
   "id": "920c2d6e-3e80-4d0f-8f36-6a19823cc1e8",
   "metadata": {},
   "outputs": [],
   "source": []
  }
 ],
 "metadata": {
  "kernelspec": {
   "display_name": "Python 3 (ipykernel)",
   "language": "python",
   "name": "python3"
  },
  "language_info": {
   "codemirror_mode": {
    "name": "ipython",
    "version": 3
   },
   "file_extension": ".py",
   "mimetype": "text/x-python",
   "name": "python",
   "nbconvert_exporter": "python",
   "pygments_lexer": "ipython3",
   "version": "3.12.10"
  }
 },
 "nbformat": 4,
 "nbformat_minor": 5
}
