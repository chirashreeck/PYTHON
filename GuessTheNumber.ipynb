{
 "cells": [
  {
   "cell_type": "code",
   "execution_count": 1,
   "id": "dbe7718f-0f37-4cfe-87f0-4facdc6f05f5",
   "metadata": {},
   "outputs": [
    {
     "name": "stdout",
     "output_type": "stream",
     "text": [
      "Name: CHIRASHREE CK\n",
      "USN: IAY24AI027\n",
      "Section M\n",
      "Welcome to 'Guess the Number'!\n",
      "I'm thinking of a number between 1 and 10.\n"
     ]
    },
    {
     "name": "stdin",
     "output_type": "stream",
     "text": [
      "Take a guess:  2\n"
     ]
    },
    {
     "name": "stdout",
     "output_type": "stream",
     "text": [
      "Congratulations! You guessed the number in 1 attempts.\n"
     ]
    }
   ],
   "source": [
    "print(\"Name: CHIRASHREE CK\\nUSN: IAY24AI027\\nSection M\")\n",
    "import random\n",
    "\n",
    "def guess_the_number():\n",
    "    number_to_guess = random.randint(1, 10)\n",
    "    guess = None\n",
    "    attempts = 0\n",
    "\n",
    "    print(\"Welcome to 'Guess the Number'!\")\n",
    "    print(\"I'm thinking of a number between 1 and 10.\")\n",
    "\n",
    "    while guess != number_to_guess:\n",
    "        try:\n",
    "            guess = int(input(\"Take a guess: \"))\n",
    "            attempts += 1\n",
    "\n",
    "            if guess < number_to_guess:\n",
    "                print(\"Too low. Try again.\")\n",
    "            elif guess > number_to_guess:\n",
    "                print(\"Too high. Try again.\")\n",
    "            else:\n",
    "                print(f\"Congratulations! You guessed the number in {attempts} attempts.\")\n",
    "        except ValueError:\n",
    "            print(\"Please enter a valid integer.\")\n",
    "\n",
    "guess_the_number()"
   ]
  },
  {
   "cell_type": "code",
   "execution_count": null,
   "id": "008fe22f-0d6e-4b04-bc3d-47a5e2c31552",
   "metadata": {},
   "outputs": [],
   "source": []
  }
 ],
 "metadata": {
  "kernelspec": {
   "display_name": "Python 3 (ipykernel)",
   "language": "python",
   "name": "python3"
  },
  "language_info": {
   "codemirror_mode": {
    "name": "ipython",
    "version": 3
   },
   "file_extension": ".py",
   "mimetype": "text/x-python",
   "name": "python",
   "nbconvert_exporter": "python",
   "pygments_lexer": "ipython3",
   "version": "3.12.10"
  }
 },
 "nbformat": 4,
 "nbformat_minor": 5
}
