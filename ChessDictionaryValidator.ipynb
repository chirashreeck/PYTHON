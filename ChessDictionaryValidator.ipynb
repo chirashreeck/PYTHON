{
 "cells": [
  {
   "cell_type": "code",
   "execution_count": 2,
   "id": "88d941b3-bab8-4c42-a170-7c397bc6721f",
   "metadata": {},
   "outputs": [
    {
     "name": "stdout",
     "output_type": "stream",
     "text": [
      "Name: CHIRASHREE CK\n",
      "USN: IAY24AI027\n",
      "Section M\n",
      "The chess board is valid.\n"
     ]
    }
   ],
   "source": [
    "print(\"Name: CHIRASHREE CK\\nUSN: IAY24AI027\\nSection M\")\n",
    "def is_valid_chess_board(board):\n",
    "    valid_positions = [f\"{file}{rank}\" for file in \"abcdefgh\" for rank in \"12345678\"]\n",
    "    valid_pieces = {\n",
    "        \"wking\", \"wqueen\", \"wrook\", \"wbishop\", \"wknight\", \"wpawn\",\n",
    "        \"bking\", \"bqueen\", \"brook\", \"bbishop\", \"bknight\", \"bpawn\"\n",
    "    }\n",
    "    white_king_count = 0\n",
    "    black_king_count = 0\n",
    "    white_pieces = 0\n",
    "    black_pieces = 0\n",
    "    for position, piece in board.items():\n",
    "        if position not in valid_positions:\n",
    "            print(f\"Invalid position: {position}\")\n",
    "            return False\n",
    "        if piece not in valid_pieces:\n",
    "            print(f\"Invalid piece: {piece}\")\n",
    "            return False\n",
    "        if piece == \"wking\":\n",
    "            white_king_count += 1\n",
    "        elif piece == \"bking\":\n",
    "            black_king_count += 1\n",
    "        if piece.startswith(\"w\"):\n",
    "            white_pieces += 1\n",
    "        elif piece.startswith(\"b\"):\n",
    "            black_pieces += 1\n",
    "    if white_king_count != 1 or black_king_count != 1:\n",
    "        print(\"There must be exactly one white king and one black king.\")\n",
    "        return False\n",
    "    if white_pieces > 16 or black_pieces > 16:\n",
    "        print(\"Too many pieces for one side.\")\n",
    "        return False\n",
    "    return True\n",
    "chess_board = {\n",
    "    'e1': 'wking',\n",
    "    'e8': 'bking',\n",
    "    'd1': 'wqueen',\n",
    "    'd8': 'bqueen',\n",
    "    'a1': 'wrook',\n",
    "    'h1': 'wrook',\n",
    "    'a8': 'brook',\n",
    "    'h8': 'brook',\n",
    "    'b1': 'wknight',\n",
    "    'g1': 'wknight',\n",
    "    'b8': 'bknight',\n",
    "    'g8': 'bknight',\n",
    "    'c1': 'wbishop',\n",
    "    'f1': 'wbishop',\n",
    "         'c8': 'bbishop',\n",
    "    'f8': 'bbishop',\n",
    "    'a2': 'wpawn',\n",
    "    'b2': 'wpawn',\n",
    "    'c2': 'wpawn',\n",
    "    'd2': 'wpawn',\n",
    "    'e2': 'wpawn',\n",
    "    'f2': 'wpawn',\n",
    "    'g2': 'wpawn',\n",
    "    'h2': 'wpawn',\n",
    "    'a7': 'bpawn',\n",
    "    'b7': 'bpawn',\n",
    "    'c7': 'bpawn',\n",
    "    'd7': 'bpawn',\n",
    "    'e7': 'bpawn',\n",
    "    'f7': 'bpawn',\n",
    "    'g7': 'bpawn',\n",
    "    'h7': 'bpawn',\n",
    "}\n",
    "if is_valid_chess_board(chess_board):\n",
    "    print(\"The chess board is valid.\")\n",
    "else:\n",
    "    print(\"The chess board is invalid.\")"
   ]
  },
  {
   "cell_type": "code",
   "execution_count": null,
   "id": "aa4018ee-1c07-4e6e-baab-60959b817a4b",
   "metadata": {},
   "outputs": [],
   "source": []
  }
 ],
 "metadata": {
  "kernelspec": {
   "display_name": "Python 3 (ipykernel)",
   "language": "python",
   "name": "python3"
  },
  "language_info": {
   "codemirror_mode": {
    "name": "ipython",
    "version": 3
   },
   "file_extension": ".py",
   "mimetype": "text/x-python",
   "name": "python",
   "nbconvert_exporter": "python",
   "pygments_lexer": "ipython3",
   "version": "3.12.10"
  }
 },
 "nbformat": 4,
 "nbformat_minor": 5
}
