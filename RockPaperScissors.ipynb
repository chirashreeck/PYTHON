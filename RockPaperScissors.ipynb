{
 "cells": [
  {
   "cell_type": "code",
   "execution_count": 1,
   "id": "1e6b3d23-a410-4c74-bf64-dd4f841d61eb",
   "metadata": {},
   "outputs": [
    {
     "name": "stdout",
     "output_type": "stream",
     "text": [
      "Name: CHIRASHREE CK\n",
      "USN: IAY24AI027\n",
      "Section M\n"
     ]
    },
    {
     "name": "stdin",
     "output_type": "stream",
     "text": [
      "enter rock, paper or scissors:  rock\n",
      "enter rock, paper or scissors:  paper\n"
     ]
    },
    {
     "name": "stdout",
     "output_type": "stream",
     "text": [
      "player 2 won\n"
     ]
    }
   ],
   "source": [
    "print(\"Name: CHIRASHREE CK\\nUSN: IAY24AI027\\nSection M\")\n",
    "player1=input(\"enter rock, paper or scissors: \")\n",
    "player2=input(\"enter rock, paper or scissors: \")\n",
    "if(player1=='rock')and(player2=='paper'):\n",
    "\tprint(\"player 2 won\")\n",
    "elif(player1=='rock')and(player2=='scissors'):\n",
    "\tprint(\"player 1 won\")\n",
    "elif(player1=='paper')and(player2=='rock'):\n",
    "\tprint(\"player 1 won\")\n",
    "elif(player1=='paper')and(player2=='scissors'):\n",
    "\tprint(\"player 2 won\")\n",
    "elif(player1=='scissors')and(player2=='rock'):\n",
    "\tprint(\"player 2 won\")\n",
    "elif(player1=='scissors')and(player2=='paper'):\n",
    "\tprint(\"player 1 won\")\n",
    "else:\n",
    "\tprint(\"it is a draw match and no one won\")\t"
   ]
  },
  {
   "cell_type": "code",
   "execution_count": null,
   "id": "f700524c-768e-4c0c-bcf5-0db032f8fc3b",
   "metadata": {},
   "outputs": [],
   "source": []
  }
 ],
 "metadata": {
  "kernelspec": {
   "display_name": "Python 3 (ipykernel)",
   "language": "python",
   "name": "python3"
  },
  "language_info": {
   "codemirror_mode": {
    "name": "ipython",
    "version": 3
   },
   "file_extension": ".py",
   "mimetype": "text/x-python",
   "name": "python",
   "nbconvert_exporter": "python",
   "pygments_lexer": "ipython3",
   "version": "3.12.10"
  }
 },
 "nbformat": 4,
 "nbformat_minor": 5
}
